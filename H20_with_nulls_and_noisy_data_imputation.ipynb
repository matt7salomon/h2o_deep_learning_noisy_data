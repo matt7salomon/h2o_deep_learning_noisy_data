{
 "cells": [
  {
   "cell_type": "code",
   "execution_count": 1,
   "metadata": {},
   "outputs": [],
   "source": [
    "# %pip install pandas \n",
    "# %pip install tensorflow\n",
    "# %pip install scikit-learn"
   ]
  },
  {
   "cell_type": "code",
   "execution_count": 2,
   "metadata": {},
   "outputs": [
    {
     "name": "stdout",
     "output_type": "stream",
     "text": [
      "Requirement already satisfied: pandas in /opt/anaconda3/envs/py310/lib/python3.10/site-packages (2.2.3)\n",
      "Requirement already satisfied: numpy in /opt/anaconda3/envs/py310/lib/python3.10/site-packages (1.23.5)\n",
      "Requirement already satisfied: scikit-learn in /opt/anaconda3/envs/py310/lib/python3.10/site-packages (1.5.2)\n",
      "Requirement already satisfied: python-dateutil>=2.8.2 in /opt/anaconda3/envs/py310/lib/python3.10/site-packages (from pandas) (2.9.0.post0)\n",
      "Requirement already satisfied: pytz>=2020.1 in /opt/anaconda3/envs/py310/lib/python3.10/site-packages (from pandas) (2024.2)\n",
      "Requirement already satisfied: tzdata>=2022.7 in /opt/anaconda3/envs/py310/lib/python3.10/site-packages (from pandas) (2024.1)\n",
      "Requirement already satisfied: scipy>=1.6.0 in /opt/anaconda3/envs/py310/lib/python3.10/site-packages (from scikit-learn) (1.13.1)\n",
      "Requirement already satisfied: joblib>=1.2.0 in /opt/anaconda3/envs/py310/lib/python3.10/site-packages (from scikit-learn) (1.4.2)\n",
      "Requirement already satisfied: threadpoolctl>=3.1.0 in /opt/anaconda3/envs/py310/lib/python3.10/site-packages (from scikit-learn) (3.5.0)\n",
      "Requirement already satisfied: six>=1.5 in /opt/anaconda3/envs/py310/lib/python3.10/site-packages (from python-dateutil>=2.8.2->pandas) (1.16.0)\n",
      "Note: you may need to restart the kernel to use updated packages.\n"
     ]
    }
   ],
   "source": [
    "%pip install pandas numpy scikit-learn"
   ]
  },
  {
   "cell_type": "code",
   "execution_count": 1,
   "metadata": {},
   "outputs": [
    {
     "name": "stdout",
     "output_type": "stream",
     "text": [
      "Number of NaNs in training data: 22911\n"
     ]
    }
   ],
   "source": [
    "import numpy as np\n",
    "import pandas as pd\n",
    "from sklearn.model_selection import train_test_split\n",
    "\n",
    "# Set random seed for reproducibility\n",
    "np.random.seed(42)\n",
    "\n",
    "# Generate synthetic data\n",
    "n_samples = 1000\n",
    "n_features = 286\n",
    "\n",
    "# Features with some correlation to the target\n",
    "X = np.random.randn(n_samples, n_features)\n",
    "# Introduce NaNs in some features (random 10% missing values)\n",
    "\n",
    "\n",
    "# Generate target variable with correlation to the first few features\n",
    "# Adding noise for realistic correlation\n",
    "y = 5 * X[:, 0] + 2 * X[:, 1] - 3 * X[:, 2] + np.random.randn(n_samples) * 0.5\n",
    "nan_mask = np.random.rand(n_samples, n_features) < 0.1\n",
    "X[nan_mask] = np.nan\n",
    "# Split the data into training and testing sets\n",
    "X_train, X_test, y_train, y_test = train_test_split(X, y, test_size=0.2, random_state=42)\n",
    "\n",
    "# Convert X_train and X_test to Pandas DataFrames to simulate your setup\n",
    "train_x = pd.DataFrame(X_train)\n",
    "test_x = pd.DataFrame(X_test)\n",
    "\n",
    "train_y = y_train\n",
    "test_y = y_test\n",
    "\n",
    "# Verify the number of NaN values\n",
    "print(\"Number of NaNs in training data:\", np.isnan(train_x).sum().sum())"
   ]
  },
  {
   "cell_type": "code",
   "execution_count": 2,
   "metadata": {},
   "outputs": [
    {
     "name": "stdout",
     "output_type": "stream",
     "text": [
      "Epoch [10/100], Loss: 23.9231\n",
      "Epoch [20/100], Loss: 7.6703\n",
      "Epoch [30/100], Loss: 10.1160\n",
      "Epoch [40/100], Loss: 9.9451\n",
      "Epoch [50/100], Loss: 4.0704\n",
      "Epoch [60/100], Loss: 10.6786\n",
      "Epoch [70/100], Loss: 3.5784\n",
      "Epoch [80/100], Loss: 4.0220\n",
      "Epoch [90/100], Loss: 2.6562\n",
      "Epoch [100/100], Loss: 4.9489\n"
     ]
    }
   ],
   "source": [
    "\n",
    "\n",
    "import torch\n",
    "import torch.nn as nn\n",
    "import torch.optim as optim\n",
    "import pandas as pd\n",
    "import numpy as np\n",
    "\n",
    "# Create synthetic data\n",
    "np.random.seed(42)\n",
    "num_samples = 10000\n",
    "num_features = 286\n",
    "\n",
    "# Generate random data for train_x (normally distributed)\n",
    "train_x = np.random.randn(num_samples, num_features)\n",
    "\n",
    "# Generate weights for each feature to introduce correlation between train_x and train_y\n",
    "weights = np.random.randn(num_features)\n",
    "\n",
    "# Generate train_y as a linear combination of train_x with some random noise\n",
    "train_y = np.dot(train_x, weights) + np.random.randn(num_samples) * 0.5  # Adding noise\n",
    "\n",
    "# Introduce NaNs into the dataset\n",
    "train_x[::10] = np.nan  # Every 10th row will have NaN values\n",
    "\n",
    "# Convert to pandas DataFrames for consistency with the original code\n",
    "train_x = pd.DataFrame(train_x, columns=[f'feature_{i}' for i in range(num_features)])\n",
    "train_y = pd.DataFrame(train_y, columns=['target'])\n",
    "\n",
    "# Convert to PyTorch tensors\n",
    "X_tensor = torch.tensor(train_x.values, dtype=torch.float32)\n",
    "y_tensor = torch.tensor(train_y.values, dtype=torch.float32).squeeze()\n",
    "\n",
    "# Replace NaNs with 0 for the forward passx\n",
    "X_tensor = torch.nan_to_num(X_tensor, nan=0.0)\n",
    "\n",
    "# Define the model\n",
    "class CustomRegressionModel(nn.Module):\n",
    "    def __init__(self, input_dim):\n",
    "        super(CustomRegressionModel, self).__init__()\n",
    "        self.fc1 = nn.Linear(input_dim, 256)\n",
    "        self.bn1 = nn.BatchNorm1d(256)\n",
    "        self.fc2 = nn.Linear(256, 128)\n",
    "        self.bn2 = nn.BatchNorm1d(128)\n",
    "        self.fc3 = nn.Linear(128, 64)\n",
    "        self.fc4 = nn.Linear(64, 1)\n",
    "        self.dropout = nn.Dropout(p=0.3)\n",
    "       \n",
    "    def forward(self, x):\n",
    "        x = torch.relu(self.bn1(self.fc1(x)))\n",
    "        x = self.dropout(x)\n",
    "        x = torch.relu(self.bn2(self.fc2(x)))\n",
    "        x = self.dropout(x)\n",
    "        x = torch.relu(self.fc3(x))\n",
    "        x = self.fc4(x)\n",
    "        return x\n",
    "\n",
    "# Initialize model, optimizer, and loss function\n",
    "model = CustomRegressionModel(input_dim=num_features)\n",
    "optimizer = optim.Adam(model.parameters(), lr=0.001)\n",
    "criterion = nn.MSELoss()\n",
    "\n",
    "# Training loop\n",
    "num_epochs = 100\n",
    "batch_size = 32\n",
    "\n",
    "for epoch in range(num_epochs):\n",
    "    model.train()\n",
    "    for i in range(0, X_tensor.size(0), batch_size):\n",
    "        batch_X = X_tensor[i:i+batch_size]\n",
    "        batch_y = y_tensor[i:i+batch_size]\n",
    "       \n",
    "        # Forward pass\n",
    "        predictions = model(batch_X)\n",
    "        loss = criterion(predictions.squeeze(), batch_y)\n",
    "       \n",
    "        # Backward pass and optimization\n",
    "        optimizer.zero_grad()\n",
    "        loss.backward()\n",
    "        optimizer.step()\n",
    "   \n",
    "    if (epoch + 1) % 10 == 0:\n",
    "        print(f'Epoch [{epoch+1}/{num_epochs}], Loss: {loss.item():.4f}')"
   ]
  },
  {
   "cell_type": "code",
   "execution_count": 5,
   "metadata": {},
   "outputs": [
    {
     "ename": "ModuleNotFoundError",
     "evalue": "No module named 'h2o'",
     "output_type": "error",
     "traceback": [
      "\u001b[0;31m---------------------------------------------------------------------------\u001b[0m",
      "\u001b[0;31mModuleNotFoundError\u001b[0m                       Traceback (most recent call last)",
      "Cell \u001b[0;32mIn[5], line 1\u001b[0m\n\u001b[0;32m----> 1\u001b[0m \u001b[38;5;28;01mimport\u001b[39;00m \u001b[38;5;21;01mh2o\u001b[39;00m\n\u001b[1;32m      2\u001b[0m \u001b[38;5;28;01mfrom\u001b[39;00m \u001b[38;5;21;01mh2o\u001b[39;00m\u001b[38;5;21;01m.\u001b[39;00m\u001b[38;5;21;01mestimators\u001b[39;00m \u001b[38;5;28;01mimport\u001b[39;00m H2ODeepLearningEstimator, H2OAutoML\n\u001b[1;32m      3\u001b[0m \u001b[38;5;28;01mimport\u001b[39;00m \u001b[38;5;21;01mnumpy\u001b[39;00m \u001b[38;5;28;01mas\u001b[39;00m \u001b[38;5;21;01mnp\u001b[39;00m\n",
      "\u001b[0;31mModuleNotFoundError\u001b[0m: No module named 'h2o'"
     ]
    }
   ],
   "source": [
    "import h2o\n",
    "from h2o.estimators import H2ODeepLearningEstimator, H2OAutoML\n",
    "import numpy as np\n",
    "import pandas as pd\n",
    "\n",
    "# Initialize H2O cluster\n",
    "h2o.init()\n",
    "\n",
    "# Create synthetic data\n",
    "np.random.seed(42)\n",
    "num_samples = 10000\n",
    "num_features = 286\n",
    "\n",
    "# Generate random data for train_x (normally distributed)\n",
    "train_x = np.random.randn(num_samples, num_features)\n",
    "\n",
    "# Generate weights for each feature to introduce correlation between train_x and train_y\n",
    "weights = np.random.randn(num_features)\n",
    "\n",
    "# Generate train_y as a linear combination of train_x with some random noise\n",
    "train_y = np.dot(train_x, weights) + np.random.randn(num_samples) * 0.5  # Adding noise\n",
    "\n",
    "# Introduce NaNs into the dataset\n",
    "train_x[::10] = np.nan  # Every 10th row will have NaN values\n",
    "\n",
    "# Convert to pandas DataFrames for consistency\n",
    "train_x = pd.DataFrame(train_x, columns=[f'feature_{i}' for i in range(num_features)])\n",
    "train_y = pd.DataFrame(train_y, columns=['target'])\n",
    "\n",
    "# Convert the pandas DataFrame to an H2OFrame\n",
    "train_x_h2o = h2o.H2OFrame(train_x)\n",
    "train_y_h2o = h2o.H2OFrame(train_y)\n",
    "\n",
    "# Combine train_x and train_y for H2O training\n",
    "train_h2o = train_x_h2o.cbind(train_y_h2o)\n",
    "\n",
    "# Define features and target columns\n",
    "features = train_x_h2o.columns\n",
    "target = 'target'\n",
    "\n",
    "# Initialize and train H2O Deep Learning model\n",
    "model = H2ODeepLearningEstimator(\n",
    "    hidden=[256, 128, 64],\n",
    "    epochs=100,\n",
    "    activation=\"RectifierWithDropout\",\n",
    "    input_dropout_ratio=0.2,\n",
    "    hidden_dropout_ratios=[0.3, 0.3, 0.3],\n",
    "    l1=1e-5,\n",
    "    l2=1e-5\n",
    ")\n",
    "\n",
    "# Train the model\n",
    "model.train(x=features, y=target, training_frame=train_h2o)\n",
    "\n",
    "# Print the model performance\n",
    "performance = model.model_performance()\n",
    "print(performance)\n",
    "\n",
    "# Alternatively, you could use AutoML to search for the best model\n",
    "# aml = H2OAutoML(max_runtime_secs=600, project_name=\"regression\")\n",
    "# aml.train(x=features, y=target, training_frame=train_h2o)\n",
    "\n",
    "# performance = aml.leader.model_performance()\n",
    "# print(performance)"
   ]
  },
  {
   "cell_type": "code",
   "execution_count": 4,
   "metadata": {},
   "outputs": [
    {
     "name": "stdout",
     "output_type": "stream",
     "text": [
      "Checking whether there is an H2O instance running at http://localhost:54321. connected.\n"
     ]
    },
    {
     "data": {
      "text/html": [
       "\n",
       "<style>\n",
       "\n",
       "#h2o-table-1.h2o-container {\n",
       "  overflow-x: auto;\n",
       "}\n",
       "#h2o-table-1 .h2o-table {\n",
       "  /* width: 100%; */\n",
       "  margin-top: 1em;\n",
       "  margin-bottom: 1em;\n",
       "}\n",
       "#h2o-table-1 .h2o-table caption {\n",
       "  white-space: nowrap;\n",
       "  caption-side: top;\n",
       "  text-align: left;\n",
       "  /* margin-left: 1em; */\n",
       "  margin: 0;\n",
       "  font-size: larger;\n",
       "}\n",
       "#h2o-table-1 .h2o-table thead {\n",
       "  white-space: nowrap; \n",
       "  position: sticky;\n",
       "  top: 0;\n",
       "  box-shadow: 0 -1px inset;\n",
       "}\n",
       "#h2o-table-1 .h2o-table tbody {\n",
       "  overflow: auto;\n",
       "}\n",
       "#h2o-table-1 .h2o-table th,\n",
       "#h2o-table-1 .h2o-table td {\n",
       "  text-align: right;\n",
       "  /* border: 1px solid; */\n",
       "}\n",
       "#h2o-table-1 .h2o-table tr:nth-child(even) {\n",
       "  /* background: #F5F5F5 */\n",
       "}\n",
       "\n",
       "</style>      \n",
       "<div id=\"h2o-table-1\" class=\"h2o-container\">\n",
       "  <table class=\"h2o-table\">\n",
       "    <caption></caption>\n",
       "    <thead></thead>\n",
       "    <tbody><tr><td>H2O_cluster_uptime:</td>\n",
       "<td>21 mins 20 secs</td></tr>\n",
       "<tr><td>H2O_cluster_timezone:</td>\n",
       "<td>America/Los_Angeles</td></tr>\n",
       "<tr><td>H2O_data_parsing_timezone:</td>\n",
       "<td>UTC</td></tr>\n",
       "<tr><td>H2O_cluster_version:</td>\n",
       "<td>3.46.0.5</td></tr>\n",
       "<tr><td>H2O_cluster_version_age:</td>\n",
       "<td>25 days</td></tr>\n",
       "<tr><td>H2O_cluster_name:</td>\n",
       "<td>mattsalomon</td></tr>\n",
       "<tr><td>H2O_cluster_total_nodes:</td>\n",
       "<td>1</td></tr>\n",
       "<tr><td>H2O_cluster_free_memory:</td>\n",
       "<td>3.540 Gb</td></tr>\n",
       "<tr><td>H2O_cluster_total_cores:</td>\n",
       "<td>10</td></tr>\n",
       "<tr><td>H2O_cluster_allowed_cores:</td>\n",
       "<td>10</td></tr>\n",
       "<tr><td>H2O_cluster_status:</td>\n",
       "<td>locked, healthy</td></tr>\n",
       "<tr><td>H2O_connection_url:</td>\n",
       "<td>http://localhost:54321</td></tr>\n",
       "<tr><td>H2O_connection_proxy:</td>\n",
       "<td>{\"http\": null, \"https\": null}</td></tr>\n",
       "<tr><td>H2O_internal_security:</td>\n",
       "<td>False</td></tr>\n",
       "<tr><td>Python_version:</td>\n",
       "<td>3.10.15 final</td></tr></tbody>\n",
       "  </table>\n",
       "</div>\n"
      ],
      "text/plain": [
       "--------------------------  -----------------------------\n",
       "H2O_cluster_uptime:         21 mins 20 secs\n",
       "H2O_cluster_timezone:       America/Los_Angeles\n",
       "H2O_data_parsing_timezone:  UTC\n",
       "H2O_cluster_version:        3.46.0.5\n",
       "H2O_cluster_version_age:    25 days\n",
       "H2O_cluster_name:           mattsalomon\n",
       "H2O_cluster_total_nodes:    1\n",
       "H2O_cluster_free_memory:    3.540 Gb\n",
       "H2O_cluster_total_cores:    10\n",
       "H2O_cluster_allowed_cores:  10\n",
       "H2O_cluster_status:         locked, healthy\n",
       "H2O_connection_url:         http://localhost:54321\n",
       "H2O_connection_proxy:       {\"http\": null, \"https\": null}\n",
       "H2O_internal_security:      False\n",
       "Python_version:             3.10.15 final\n",
       "--------------------------  -----------------------------"
      ]
     },
     "metadata": {},
     "output_type": "display_data"
    },
    {
     "name": "stdout",
     "output_type": "stream",
     "text": [
      "Parse progress: |████████████████████████████████████████████████████████████████| (done) 100%\n",
      "Parse progress: |████████████████████████████████████████████████████████████████| (done) 100%\n",
      "deeplearning Model Build progress: |█████████████████████████████████████████████| (done) 100%\n",
      "ModelMetricsRegression: deeplearning\n",
      "** Reported on train data. **\n",
      "\n",
      "MSE: 60.897356463844424\n",
      "RMSE: 7.803675830263865\n",
      "MAE: 5.738057477935067\n",
      "RMSLE: NaN\n",
      "Mean Residual Deviance: 60.897356463844424\n"
     ]
    }
   ],
   "source": [
    "import h2o\n",
    "from h2o.estimators import H2ODeepLearningEstimator#, H2OAutoML\n",
    "import numpy as np\n",
    "import pandas as pd\n",
    "\n",
    "# Initialize H2O cluster\n",
    "h2o.init()\n",
    "\n",
    "# Create synthetic data\n",
    "np.random.seed(42)\n",
    "num_samples = 10000\n",
    "num_features = 286\n",
    "\n",
    "# Generate random data for train_x (normally distributed)\n",
    "train_x = np.random.randn(num_samples, num_features)\n",
    "\n",
    "# Generate weights for each feature to introduce correlation between train_x and train_y\n",
    "weights = np.random.randn(num_features)\n",
    "\n",
    "# Generate train_y as a linear combination of train_x with some random noise\n",
    "train_y = np.dot(train_x, weights) + np.random.randn(num_samples) * 0.5  # Adding noise\n",
    "\n",
    "# Introduce NaNs into the dataset\n",
    "train_x[::10] = np.nan  # Every 10th row will have NaN values\n",
    "\n",
    "# Convert to pandas DataFrames for consistency\n",
    "train_x = pd.DataFrame(train_x, columns=[f'feature_{i}' for i in range(num_features)])\n",
    "train_y = pd.DataFrame(train_y, columns=['target'])\n",
    "\n",
    "# Convert the pandas DataFrame to an H2OFrame\n",
    "train_x_h2o = h2o.H2OFrame(train_x)\n",
    "train_y_h2o = h2o.H2OFrame(train_y)\n",
    "\n",
    "# Combine train_x and train_y for H2O training\n",
    "train_h2o = train_x_h2o.cbind(train_y_h2o)\n",
    "\n",
    "# Define features and target columns\n",
    "features = train_x_h2o.columns\n",
    "target = 'target'\n",
    "\n",
    "# Initialize and train H2O Deep Learning model\n",
    "model = H2ODeepLearningEstimator(\n",
    "    hidden=[256, 128, 64],\n",
    "    epochs=100,\n",
    "    activation=\"RectifierWithDropout\",\n",
    "    input_dropout_ratio=0.2,\n",
    "    hidden_dropout_ratios=[0.3, 0.3, 0.3],\n",
    "    l1=1e-5,\n",
    "    l2=1e-5\n",
    ")\n",
    "\n",
    "# Train the model\n",
    "model.train(x=features, y=target, training_frame=train_h2o)\n",
    "\n",
    "# Print the model performance\n",
    "performance = model.model_performance()\n",
    "print(performance)\n",
    "\n"
   ]
  },
  {
   "cell_type": "code",
   "execution_count": 48,
   "metadata": {},
   "outputs": [
    {
     "name": "stdout",
     "output_type": "stream",
     "text": [
      "Parse progress: |████████████████████████████████████████████████████████████████| (done) 100%\n",
      "Parse progress: |████████████████████████████████████████████████████████████████| (done) 100%\n"
     ]
    }
   ],
   "source": [
    "test_x = np.random.randn(num_samples, num_features)\n",
    "test_y = np.dot(test_x, weights) + np.random.randn(num_samples) * 0.5  # Adding noise\n",
    "test_x[::10] = np.nan\n",
    "test_x_h2o = h2o.H2OFrame(test_x, column_names=[f'feature_{i}' for i in range(num_features)])\n",
    "test_y_h2o = h2o.H2OFrame(test_y,column_names=['target'])\n",
    "\n",
    "# Combine train_x and train_y for H2O training\n",
    "test_h2o = test_x_h2o.cbind(test_y_h2o)\n"
   ]
  },
  {
   "cell_type": "code",
   "execution_count": 49,
   "metadata": {},
   "outputs": [
    {
     "data": {
      "text/plain": [
       "((10000, 286), (10000, 286))"
      ]
     },
     "execution_count": 49,
     "metadata": {},
     "output_type": "execute_result"
    }
   ],
   "source": [
    "train_x.shape, test_x.shape"
   ]
  },
  {
   "cell_type": "code",
   "execution_count": 50,
   "metadata": {},
   "outputs": [
    {
     "name": "stdout",
     "output_type": "stream",
     "text": [
      "deeplearning prediction progress: |██████████████████████████████████████████████| (done) 100%\n",
      "deeplearning prediction progress: |██████████████████████████████████████████████| (done) 100%\n"
     ]
    }
   ],
   "source": [
    "# Make predictions\n",
    "train_pred = model.predict(train_h2o)\n",
    "test_pred = model.predict(test_h2o)"
   ]
  },
  {
   "cell_type": "code",
   "execution_count": 51,
   "metadata": {},
   "outputs": [
    {
     "name": "stderr",
     "output_type": "stream",
     "text": [
      "/opt/anaconda3/envs/py310/lib/python3.10/site-packages/h2o/frame.py:1981: H2ODependencyWarning: Converting H2O frame to pandas dataframe using single-thread.  For faster conversion using multi-thread, install polars and pyarrow and use it as pandas_df = h2o_df.as_data_frame(use_multi_thread=True)\n",
      "\n",
      "  warnings.warn(\"Converting H2O frame to pandas dataframe using single-thread.  For faster conversion using\"\n"
     ]
    },
    {
     "data": {
      "text/html": [
       "<div>\n",
       "<style scoped>\n",
       "    .dataframe tbody tr th:only-of-type {\n",
       "        vertical-align: middle;\n",
       "    }\n",
       "\n",
       "    .dataframe tbody tr th {\n",
       "        vertical-align: top;\n",
       "    }\n",
       "\n",
       "    .dataframe thead th {\n",
       "        text-align: right;\n",
       "    }\n",
       "</style>\n",
       "<table border=\"1\" class=\"dataframe\">\n",
       "  <thead>\n",
       "    <tr style=\"text-align: right;\">\n",
       "      <th></th>\n",
       "      <th>y_pred_train</th>\n",
       "      <th>y_true_train</th>\n",
       "    </tr>\n",
       "  </thead>\n",
       "  <tbody>\n",
       "    <tr>\n",
       "      <th>0</th>\n",
       "      <td>-0.253800</td>\n",
       "      <td>-15.076742</td>\n",
       "    </tr>\n",
       "    <tr>\n",
       "      <th>1</th>\n",
       "      <td>4.444131</td>\n",
       "      <td>8.620448</td>\n",
       "    </tr>\n",
       "    <tr>\n",
       "      <th>2</th>\n",
       "      <td>18.115235</td>\n",
       "      <td>28.172118</td>\n",
       "    </tr>\n",
       "    <tr>\n",
       "      <th>3</th>\n",
       "      <td>22.196200</td>\n",
       "      <td>34.670782</td>\n",
       "    </tr>\n",
       "    <tr>\n",
       "      <th>4</th>\n",
       "      <td>-2.412051</td>\n",
       "      <td>-4.697201</td>\n",
       "    </tr>\n",
       "    <tr>\n",
       "      <th>...</th>\n",
       "      <td>...</td>\n",
       "      <td>...</td>\n",
       "    </tr>\n",
       "    <tr>\n",
       "      <th>9995</th>\n",
       "      <td>-12.861229</td>\n",
       "      <td>-20.868444</td>\n",
       "    </tr>\n",
       "    <tr>\n",
       "      <th>9996</th>\n",
       "      <td>-7.598448</td>\n",
       "      <td>-13.297913</td>\n",
       "    </tr>\n",
       "    <tr>\n",
       "      <th>9997</th>\n",
       "      <td>-22.173945</td>\n",
       "      <td>-33.682206</td>\n",
       "    </tr>\n",
       "    <tr>\n",
       "      <th>9998</th>\n",
       "      <td>7.497384</td>\n",
       "      <td>12.164308</td>\n",
       "    </tr>\n",
       "    <tr>\n",
       "      <th>9999</th>\n",
       "      <td>7.163529</td>\n",
       "      <td>8.064832</td>\n",
       "    </tr>\n",
       "  </tbody>\n",
       "</table>\n",
       "<p>10000 rows × 2 columns</p>\n",
       "</div>"
      ],
      "text/plain": [
       "      y_pred_train  y_true_train\n",
       "0        -0.253800    -15.076742\n",
       "1         4.444131      8.620448\n",
       "2        18.115235     28.172118\n",
       "3        22.196200     34.670782\n",
       "4        -2.412051     -4.697201\n",
       "...            ...           ...\n",
       "9995    -12.861229    -20.868444\n",
       "9996     -7.598448    -13.297913\n",
       "9997    -22.173945    -33.682206\n",
       "9998      7.497384     12.164308\n",
       "9999      7.163529      8.064832\n",
       "\n",
       "[10000 rows x 2 columns]"
      ]
     },
     "execution_count": 51,
     "metadata": {},
     "output_type": "execute_result"
    }
   ],
   "source": [
    "pd.DataFrame(data={'y_pred_train':train_pred.as_data_frame().values.flatten(), 'y_true_train':train_y.values.flatten()})"
   ]
  },
  {
   "cell_type": "code",
   "execution_count": 52,
   "metadata": {},
   "outputs": [],
   "source": [
    "# # Make predictions\n",
    "# test_h2o = h2o.H2OFrame(test_x)\n",
    "# predictions = model.predict(test_h2o)\n",
    "\n",
    "# # View the predictions\n",
    "# print(predictions.head())"
   ]
  },
  {
   "cell_type": "code",
   "execution_count": 7,
   "metadata": {},
   "outputs": [
    {
     "name": "stdout",
     "output_type": "stream",
     "text": [
      "AutoML progress: |███████████████████████████████████████████████████████████████| (done) 100%\n",
      "ModelMetricsRegressionGLM: glm\n",
      "** Reported on train data. **\n",
      "\n",
      "MSE: 28.00739141134721\n",
      "RMSE: 5.292200998766695\n",
      "MAE: 1.6973435567053836\n",
      "RMSLE: NaN\n",
      "Mean Residual Deviance: 28.00739141134721\n",
      "R^2: 0.8983448524443512\n",
      "Null degrees of freedom: 9999\n",
      "Residual degrees of freedom: 9713\n",
      "Null deviance: 2755137.549332193\n",
      "Residual deviance: 280073.9141134721\n",
      "AIC: 62279.45520724916\n"
     ]
    }
   ],
   "source": [
    "from h2o.automl import H2OAutoML\n",
    "# Alternatively, you could use AutoML to search for the best model\n",
    "aml = H2OAutoML(max_runtime_secs=600, project_name=\"regression\")\n",
    "aml.train(x=features, y=target, training_frame=train_h2o)\n",
    "\n",
    "performance = aml.leader.model_performance()\n",
    "print(performance)"
   ]
  },
  {
   "cell_type": "code",
   "execution_count": 53,
   "metadata": {},
   "outputs": [
    {
     "data": {
      "text/html": [
       "<table class='dataframe'>\n",
       "<thead>\n",
       "<tr><th>model_id                                               </th><th style=\"text-align: right;\">    rmse</th><th style=\"text-align: right;\">     mse</th><th style=\"text-align: right;\">    mae</th><th style=\"text-align: right;\">  rmsle</th><th style=\"text-align: right;\">  mean_residual_deviance</th></tr>\n",
       "</thead>\n",
       "<tbody>\n",
       "<tr><td>GLM_1_AutoML_1_20240923_211230                         </td><td style=\"text-align: right;\"> 5.29464</td><td style=\"text-align: right;\"> 28.0332</td><td style=\"text-align: right;\">1.71254</td><td style=\"text-align: right;\">    nan</td><td style=\"text-align: right;\">                 28.0332</td></tr>\n",
       "<tr><td>StackedEnsemble_AllModels_2_AutoML_1_20240923_211230   </td><td style=\"text-align: right;\"> 5.29509</td><td style=\"text-align: right;\"> 28.038 </td><td style=\"text-align: right;\">1.71367</td><td style=\"text-align: right;\">    nan</td><td style=\"text-align: right;\">                 28.038 </td></tr>\n",
       "<tr><td>StackedEnsemble_BestOfFamily_1_AutoML_1_20240923_211230</td><td style=\"text-align: right;\"> 5.29512</td><td style=\"text-align: right;\"> 28.0383</td><td style=\"text-align: right;\">1.71415</td><td style=\"text-align: right;\">    nan</td><td style=\"text-align: right;\">                 28.0383</td></tr>\n",
       "<tr><td>StackedEnsemble_BestOfFamily_2_AutoML_1_20240923_211230</td><td style=\"text-align: right;\"> 5.29513</td><td style=\"text-align: right;\"> 28.0384</td><td style=\"text-align: right;\">1.71412</td><td style=\"text-align: right;\">    nan</td><td style=\"text-align: right;\">                 28.0384</td></tr>\n",
       "<tr><td>StackedEnsemble_AllModels_1_AutoML_1_20240923_211230   </td><td style=\"text-align: right;\"> 5.29523</td><td style=\"text-align: right;\"> 28.0395</td><td style=\"text-align: right;\">1.71372</td><td style=\"text-align: right;\">    nan</td><td style=\"text-align: right;\">                 28.0395</td></tr>\n",
       "<tr><td>StackedEnsemble_AllModels_3_AutoML_1_20240923_211230   </td><td style=\"text-align: right;\"> 5.29554</td><td style=\"text-align: right;\"> 28.0428</td><td style=\"text-align: right;\">1.71425</td><td style=\"text-align: right;\">    nan</td><td style=\"text-align: right;\">                 28.0428</td></tr>\n",
       "<tr><td>StackedEnsemble_BestOfFamily_3_AutoML_1_20240923_211230</td><td style=\"text-align: right;\"> 5.29639</td><td style=\"text-align: right;\"> 28.0518</td><td style=\"text-align: right;\">1.71507</td><td style=\"text-align: right;\">    nan</td><td style=\"text-align: right;\">                 28.0518</td></tr>\n",
       "<tr><td>DeepLearning_1_AutoML_1_20240923_211230                </td><td style=\"text-align: right;\"> 5.47443</td><td style=\"text-align: right;\"> 29.9694</td><td style=\"text-align: right;\">2.44844</td><td style=\"text-align: right;\">    nan</td><td style=\"text-align: right;\">                 29.9694</td></tr>\n",
       "<tr><td>DeepLearning_grid_1_AutoML_1_20240923_211230_model_1   </td><td style=\"text-align: right;\"> 9.09619</td><td style=\"text-align: right;\"> 82.7406</td><td style=\"text-align: right;\">6.89205</td><td style=\"text-align: right;\">    nan</td><td style=\"text-align: right;\">                 82.7406</td></tr>\n",
       "<tr><td>GBM_1_AutoML_1_20240923_211230                         </td><td style=\"text-align: right;\">10.8924 </td><td style=\"text-align: right;\">118.643 </td><td style=\"text-align: right;\">8.5309 </td><td style=\"text-align: right;\">    nan</td><td style=\"text-align: right;\">                118.643 </td></tr>\n",
       "</tbody>\n",
       "</table><pre style='font-size: smaller; margin-bottom: 1em;'>[22 rows x 6 columns]</pre>"
      ],
      "text/plain": [
       "model_id                                                     rmse       mse      mae    rmsle    mean_residual_deviance\n",
       "-------------------------------------------------------  --------  --------  -------  -------  ------------------------\n",
       "GLM_1_AutoML_1_20240923_211230                            5.29464   28.0332  1.71254      nan                   28.0332\n",
       "StackedEnsemble_AllModels_2_AutoML_1_20240923_211230      5.29509   28.038   1.71367      nan                   28.038\n",
       "StackedEnsemble_BestOfFamily_1_AutoML_1_20240923_211230   5.29512   28.0383  1.71415      nan                   28.0383\n",
       "StackedEnsemble_BestOfFamily_2_AutoML_1_20240923_211230   5.29513   28.0384  1.71412      nan                   28.0384\n",
       "StackedEnsemble_AllModels_1_AutoML_1_20240923_211230      5.29523   28.0395  1.71372      nan                   28.0395\n",
       "StackedEnsemble_AllModels_3_AutoML_1_20240923_211230      5.29554   28.0428  1.71425      nan                   28.0428\n",
       "StackedEnsemble_BestOfFamily_3_AutoML_1_20240923_211230   5.29639   28.0518  1.71507      nan                   28.0518\n",
       "DeepLearning_1_AutoML_1_20240923_211230                   5.47443   29.9694  2.44844      nan                   29.9694\n",
       "DeepLearning_grid_1_AutoML_1_20240923_211230_model_1      9.09619   82.7406  6.89205      nan                   82.7406\n",
       "GBM_1_AutoML_1_20240923_211230                           10.8924   118.643   8.5309       nan                  118.643\n",
       "[22 rows x 6 columns]\n"
      ]
     },
     "execution_count": 53,
     "metadata": {},
     "output_type": "execute_result"
    }
   ],
   "source": [
    "aml.leaderboard"
   ]
  },
  {
   "cell_type": "code",
   "execution_count": 54,
   "metadata": {},
   "outputs": [],
   "source": [
    "perf = aml.leader.model_performance(test_h2o)"
   ]
  },
  {
   "cell_type": "code",
   "execution_count": 61,
   "metadata": {},
   "outputs": [
    {
     "data": {
      "text/plain": [
       "(5.318055544950004, 1.690125741843353, 0.8982046659221945)"
      ]
     },
     "execution_count": 61,
     "metadata": {},
     "output_type": "execute_result"
    }
   ],
   "source": [
    "perf.rmse(), perf.mae(), perf.r2()"
   ]
  },
  {
   "cell_type": "code",
   "execution_count": 62,
   "metadata": {},
   "outputs": [
    {
     "name": "stdout",
     "output_type": "stream",
     "text": [
      "glm prediction progress: |███████████████████████████████████████████████████████| (done) 100%\n"
     ]
    }
   ],
   "source": [
    "train_pred = aml.predict(train_h2o)"
   ]
  },
  {
   "cell_type": "code",
   "execution_count": 63,
   "metadata": {},
   "outputs": [
    {
     "name": "stderr",
     "output_type": "stream",
     "text": [
      "/opt/anaconda3/envs/py310/lib/python3.10/site-packages/h2o/frame.py:1981: H2ODependencyWarning: Converting H2O frame to pandas dataframe using single-thread.  For faster conversion using multi-thread, install polars and pyarrow and use it as pandas_df = h2o_df.as_data_frame(use_multi_thread=True)\n",
      "\n",
      "  warnings.warn(\"Converting H2O frame to pandas dataframe using single-thread.  For faster conversion using\"\n"
     ]
    },
    {
     "data": {
      "text/html": [
       "<div>\n",
       "<style scoped>\n",
       "    .dataframe tbody tr th:only-of-type {\n",
       "        vertical-align: middle;\n",
       "    }\n",
       "\n",
       "    .dataframe tbody tr th {\n",
       "        vertical-align: top;\n",
       "    }\n",
       "\n",
       "    .dataframe thead th {\n",
       "        text-align: right;\n",
       "    }\n",
       "</style>\n",
       "<table border=\"1\" class=\"dataframe\">\n",
       "  <thead>\n",
       "    <tr style=\"text-align: right;\">\n",
       "      <th></th>\n",
       "      <th>y_pred_train</th>\n",
       "      <th>y_true_train</th>\n",
       "    </tr>\n",
       "  </thead>\n",
       "  <tbody>\n",
       "    <tr>\n",
       "      <th>count</th>\n",
       "      <td>10000.000000</td>\n",
       "      <td>10000.000000</td>\n",
       "    </tr>\n",
       "    <tr>\n",
       "      <th>mean</th>\n",
       "      <td>0.068778</td>\n",
       "      <td>0.068778</td>\n",
       "    </tr>\n",
       "    <tr>\n",
       "      <th>std</th>\n",
       "      <td>15.727700</td>\n",
       "      <td>16.599437</td>\n",
       "    </tr>\n",
       "    <tr>\n",
       "      <th>min</th>\n",
       "      <td>-63.873488</td>\n",
       "      <td>-64.967615</td>\n",
       "    </tr>\n",
       "    <tr>\n",
       "      <th>25%</th>\n",
       "      <td>-9.638754</td>\n",
       "      <td>-11.136724</td>\n",
       "    </tr>\n",
       "    <tr>\n",
       "      <th>50%</th>\n",
       "      <td>0.068778</td>\n",
       "      <td>0.373693</td>\n",
       "    </tr>\n",
       "    <tr>\n",
       "      <th>75%</th>\n",
       "      <td>9.699891</td>\n",
       "      <td>11.108575</td>\n",
       "    </tr>\n",
       "    <tr>\n",
       "      <th>max</th>\n",
       "      <td>66.888468</td>\n",
       "      <td>67.440638</td>\n",
       "    </tr>\n",
       "  </tbody>\n",
       "</table>\n",
       "</div>"
      ],
      "text/plain": [
       "       y_pred_train  y_true_train\n",
       "count  10000.000000  10000.000000\n",
       "mean       0.068778      0.068778\n",
       "std       15.727700     16.599437\n",
       "min      -63.873488    -64.967615\n",
       "25%       -9.638754    -11.136724\n",
       "50%        0.068778      0.373693\n",
       "75%        9.699891     11.108575\n",
       "max       66.888468     67.440638"
      ]
     },
     "execution_count": 63,
     "metadata": {},
     "output_type": "execute_result"
    }
   ],
   "source": [
    "pd.DataFrame(data={'y_pred_train':train_pred.as_data_frame().values.flatten(), 'y_true_train':train_y.values.flatten()}).describe()"
   ]
  },
  {
   "cell_type": "code",
   "execution_count": 64,
   "metadata": {},
   "outputs": [
    {
     "name": "stdout",
     "output_type": "stream",
     "text": [
      "glm prediction progress: |███████████████████████████████████████████████████████| (done) 100%\n"
     ]
    }
   ],
   "source": [
    "test_pred = aml.predict(test_h2o)"
   ]
  },
  {
   "cell_type": "code",
   "execution_count": 66,
   "metadata": {},
   "outputs": [
    {
     "name": "stderr",
     "output_type": "stream",
     "text": [
      "/opt/anaconda3/envs/py310/lib/python3.10/site-packages/h2o/frame.py:1981: H2ODependencyWarning: Converting H2O frame to pandas dataframe using single-thread.  For faster conversion using multi-thread, install polars and pyarrow and use it as pandas_df = h2o_df.as_data_frame(use_multi_thread=True)\n",
      "\n",
      "  warnings.warn(\"Converting H2O frame to pandas dataframe using single-thread.  For faster conversion using\"\n"
     ]
    },
    {
     "data": {
      "text/html": [
       "<div>\n",
       "<style scoped>\n",
       "    .dataframe tbody tr th:only-of-type {\n",
       "        vertical-align: middle;\n",
       "    }\n",
       "\n",
       "    .dataframe tbody tr th {\n",
       "        vertical-align: top;\n",
       "    }\n",
       "\n",
       "    .dataframe thead th {\n",
       "        text-align: right;\n",
       "    }\n",
       "</style>\n",
       "<table border=\"1\" class=\"dataframe\">\n",
       "  <thead>\n",
       "    <tr style=\"text-align: right;\">\n",
       "      <th></th>\n",
       "      <th>y_pred_test</th>\n",
       "      <th>y_true_test</th>\n",
       "    </tr>\n",
       "  </thead>\n",
       "  <tbody>\n",
       "    <tr>\n",
       "      <th>count</th>\n",
       "      <td>10000.000000</td>\n",
       "      <td>10000.000000</td>\n",
       "    </tr>\n",
       "    <tr>\n",
       "      <th>mean</th>\n",
       "      <td>0.201457</td>\n",
       "      <td>0.287887</td>\n",
       "    </tr>\n",
       "    <tr>\n",
       "      <th>std</th>\n",
       "      <td>15.797434</td>\n",
       "      <td>16.669042</td>\n",
       "    </tr>\n",
       "    <tr>\n",
       "      <th>min</th>\n",
       "      <td>-60.303436</td>\n",
       "      <td>-60.717713</td>\n",
       "    </tr>\n",
       "    <tr>\n",
       "      <th>25%</th>\n",
       "      <td>-9.541720</td>\n",
       "      <td>-10.779105</td>\n",
       "    </tr>\n",
       "    <tr>\n",
       "      <th>50%</th>\n",
       "      <td>0.068778</td>\n",
       "      <td>0.248595</td>\n",
       "    </tr>\n",
       "    <tr>\n",
       "      <th>75%</th>\n",
       "      <td>9.894278</td>\n",
       "      <td>11.415916</td>\n",
       "    </tr>\n",
       "    <tr>\n",
       "      <th>max</th>\n",
       "      <td>60.771906</td>\n",
       "      <td>61.402047</td>\n",
       "    </tr>\n",
       "  </tbody>\n",
       "</table>\n",
       "</div>"
      ],
      "text/plain": [
       "        y_pred_test   y_true_test\n",
       "count  10000.000000  10000.000000\n",
       "mean       0.201457      0.287887\n",
       "std       15.797434     16.669042\n",
       "min      -60.303436    -60.717713\n",
       "25%       -9.541720    -10.779105\n",
       "50%        0.068778      0.248595\n",
       "75%        9.894278     11.415916\n",
       "max       60.771906     61.402047"
      ]
     },
     "execution_count": 66,
     "metadata": {},
     "output_type": "execute_result"
    }
   ],
   "source": [
    "pd.DataFrame(data={'y_pred_test':test_pred.as_data_frame().values.flatten(), 'y_true_test':test_y}).describe()"
   ]
  },
  {
   "cell_type": "code",
   "execution_count": null,
   "metadata": {},
   "outputs": [],
   "source": []
  }
 ],
 "metadata": {
  "kernelspec": {
   "display_name": "py310",
   "language": "python",
   "name": "python3"
  },
  "language_info": {
   "codemirror_mode": {
    "name": "ipython",
    "version": 3
   },
   "file_extension": ".py",
   "mimetype": "text/x-python",
   "name": "python",
   "nbconvert_exporter": "python",
   "pygments_lexer": "ipython3",
   "version": "3.10.15"
  }
 },
 "nbformat": 4,
 "nbformat_minor": 4
}
